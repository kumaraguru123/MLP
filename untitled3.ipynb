{
 "cells": [
  {
   "cell_type": "code",
   "execution_count": 1,
   "id": "2957051a",
   "metadata": {},
   "outputs": [
    {
     "name": "stdout",
     "output_type": "stream",
     "text": [
      "Enter the no of items:5\n",
      "Enter the price:9000\n",
      "Bill amount:42750.0\n"
     ]
    }
   ],
   "source": [
    "noi=int(input(\"Enter the no of items:\"))\n",
    "price=float(input(\"Enter the price:\"))\n",
    "amount=noi*price\n",
    "if(amount>=5000):\n",
    "    discount=amount*0.05\n",
    "    amount=amount-discount\n",
    "print(\"Bill amount:{}\".format(amount))"
   ]
  },
  {
   "cell_type": "code",
   "execution_count": 2,
   "id": "95b135f8",
   "metadata": {},
   "outputs": [
    {
     "name": "stdout",
     "output_type": "stream",
     "text": [
      "Enter your number:5\n",
      "5 is odd\n"
     ]
    }
   ],
   "source": [
    "num1=int(input(\"Enter your number:\"))\n",
    "if(num1%2==0):\n",
    "    print(\"{} is even\".format(num1))\n",
    "else:\n",
    "    print(\"{} is odd\".format(num1))"
   ]
  },
  {
   "cell_type": "code",
   "execution_count": 3,
   "id": "354491cf",
   "metadata": {},
   "outputs": [
    {
     "name": "stdout",
     "output_type": "stream",
     "text": [
      "Enter a number:5\n",
      "5 is not divisible by 3\n"
     ]
    }
   ],
   "source": [
    "num=int(input(\"Enter a number:\"))\n",
    "last_digit=num%10\n",
    "if(last_digit%3==0):\n",
    "    print(\"{} is divisible by 3\".format(last_digit))\n",
    "else:\n",
    "    print(\"{} is not divisible by 3\".format(last_digit))"
   ]
  },
  {
   "cell_type": "code",
   "execution_count": 4,
   "id": "0dcebf3c",
   "metadata": {},
   "outputs": [
    {
     "name": "stdout",
     "output_type": "stream",
     "text": [
      "Enter first number:5\n",
      "Enter operation:+\n",
      "Enter second number:5\n",
      "10\n"
     ]
    }
   ],
   "source": [
    "num1=int(input(\"Enter first number:\"))\n",
    "op=input(\"Enter operation:\")\n",
    "num2=int(input(\"Enter second number:\"))\n",
    "if op=='+':\n",
    "    result=num1+num2\n",
    "elif op=='-':\n",
    "    result=num1-num2\n",
    "elif op=='*':\n",
    "    result=num1*num2\n",
    "elif op=='/':\n",
    "    result=num1/num2\n",
    "elif op=='%':\n",
    "    result=num1%num2\n",
    "else:\n",
    "    result=\"invalid operation\"\n",
    "print(result)"
   ]
  },
  {
   "cell_type": "code",
   "execution_count": 5,
   "id": "f016e5a0",
   "metadata": {},
   "outputs": [
    {
     "name": "stdout",
     "output_type": "stream",
     "text": [
      "Enter a number:5\n",
      "5 is prime\n"
     ]
    }
   ],
   "source": [
    "n=int(input(\"Enter a number:\"))\n",
    "c=0\n",
    "for i in range(1,n+1):\n",
    "    if n%i==0:\n",
    "        c=c+1\n",
    "if n==0:\n",
    "    print(\"neither prime nor composite\")\n",
    "elif c<=2:\n",
    "    print(\"{} is prime\".format(n))\n",
    "else:\n",
    "    print(\"{} is composite\".format(n))"
   ]
  },
  {
   "cell_type": "code",
   "execution_count": 6,
   "id": "d7838b65",
   "metadata": {},
   "outputs": [
    {
     "name": "stdout",
     "output_type": "stream",
     "text": [
      "Enter a number:9\n",
      "The factors of 9 are:\n",
      "1\n",
      "3\n",
      "9\n"
     ]
    }
   ],
   "source": [
    "def print_factors(x):\n",
    "    print(\"The factors of\",x,\"are:\")\n",
    "    for i in range(1,x+1):\n",
    "        if x%i==0:\n",
    "            print(i)\n",
    "num=int(input(\"Enter a number:\"))\n",
    "print_factors(num)"
   ]
  },
  {
   "cell_type": "code",
   "execution_count": 7,
   "id": "20707bb0",
   "metadata": {},
   "outputs": [
    {
     "name": "stdout",
     "output_type": "stream",
     "text": [
      "Enter  a string:stay positive\n",
      "The sorted words are:\n",
      "positive\n",
      "stay\n"
     ]
    }
   ],
   "source": [
    "my_str=input(\"Enter  a string:\")\n",
    "words=my_str.split()\n",
    "words.sort()\n",
    "print(\"The sorted words are:\")\n",
    "for word in words:\n",
    "    print(word)"
   ]
  },
  {
   "cell_type": "code",
   "execution_count": 8,
   "id": "1168fd75",
   "metadata": {},
   "outputs": [
    {
     "name": "stdout",
     "output_type": "stream",
     "text": [
      "Enter a number:5\n",
      "5 is not an armstrong number\n"
     ]
    }
   ],
   "source": [
    "num=int(input(\"Enter a number:\"))\n",
    "sum=0\n",
    "temp=num\n",
    "while temp>0:\n",
    "    digit=temp%10\n",
    "    sum+=digit**3\n",
    "    temp//=10\n",
    "if num==sum:\n",
    "    print(num,\"is an armstrong number\")\n",
    "else:\n",
    "        print(num,\"is not an armstrong number\")"
   ]
  },
  {
   "cell_type": "code",
   "execution_count": 9,
   "id": "7bfc328e",
   "metadata": {},
   "outputs": [
    {
     "name": "stdout",
     "output_type": "stream",
     "text": [
      "[17, 0, 0]\n",
      "[0, 0, 0]\n",
      "[0, 0, 0]\n",
      "[17, 15, 0]\n",
      "[0, 0, 0]\n",
      "[0, 0, 0]\n",
      "[17, 15, 4]\n",
      "[0, 0, 0]\n",
      "[0, 0, 0]\n",
      "[17, 15, 4]\n",
      "[10, 0, 0]\n",
      "[0, 0, 0]\n",
      "[17, 15, 4]\n",
      "[10, 12, 0]\n",
      "[0, 0, 0]\n",
      "[17, 15, 4]\n",
      "[10, 12, 9]\n",
      "[0, 0, 0]\n",
      "[17, 15, 4]\n",
      "[10, 12, 9]\n",
      "[11, 0, 0]\n",
      "[17, 15, 4]\n",
      "[10, 12, 9]\n",
      "[11, 13, 0]\n",
      "[17, 15, 4]\n",
      "[10, 12, 9]\n",
      "[11, 13, 18]\n"
     ]
    }
   ],
   "source": [
    "x=[[12,7,3],[4,5,6],[7,8,9]]\n",
    "y=[[5,8,1],[6,7,3],[4,5,9]]\n",
    "result=[[0,0,0],[0,0,0],[0,0,0]]\n",
    "for i in range(len(x)):\n",
    "    for j in range(len(x[0])):\n",
    "        result[i][j]=x[i][j]+y[i][j]\n",
    "        for r in result:\n",
    "            print(r)"
   ]
  },
  {
   "cell_type": "code",
   "execution_count": 10,
   "id": "be8a6298",
   "metadata": {},
   "outputs": [
    {
     "name": "stdout",
     "output_type": "stream",
     "text": [
      "Enter number:64\n",
      "Reverse of the number: 46\n"
     ]
    }
   ],
   "source": [
    "n=int(input(\"Enter number:\"))\n",
    "rev=0\n",
    "while(n>0):\n",
    "    dig=n%10\n",
    "    rev=rev*10+dig\n",
    "    n=n//10\n",
    "print(\"Reverse of the number:\",rev)"
   ]
  },
  {
   "cell_type": "code",
   "execution_count": 37,
   "id": "7ad67bf9",
   "metadata": {},
   "outputs": [
    {
     "name": "stdout",
     "output_type": "stream",
     "text": [
      "Enter string:hi\n",
      "Modified string:\n",
      "hi\n"
     ]
    }
   ],
   "source": [
    "# 3(i)\n",
    "string=input(\"Enter string:\")\n",
    "string=string.replace('a','$')\n",
    "string=string.replace('A','$')\n",
    "print(\"Modified string:\")\n",
    "print(string)\n"
   ]
  },
  {
   "cell_type": "code",
   "execution_count": 6,
   "id": "d4640b65",
   "metadata": {},
   "outputs": [
    {
     "name": "stdout",
     "output_type": "stream",
     "text": [
      "Enter the string:hi hello\n",
      "Enter the index of the character to remove:3\n",
      "Modified string:\n",
      "hi ello\n"
     ]
    }
   ],
   "source": [
    "# 3(ii)\n",
    "def remove(string,n):\n",
    "    first=string[:n]\n",
    "    last=string[n+1:]\n",
    "    return first+last\n",
    "string=input(\"Enter the string:\")\n",
    "n=int(input(\"Enter the index of the character to remove:\"))\n",
    "print(\"Modified string:\")\n",
    "print(remove(string,n))"
   ]
  },
  {
   "cell_type": "code",
   "execution_count": 8,
   "id": "efbe6083",
   "metadata": {},
   "outputs": [
    {
     "name": "stdout",
     "output_type": "stream",
     "text": [
      "Enter string:Hi Hello\n",
      "The number of lowercase characters is:\n",
      "5\n"
     ]
    }
   ],
   "source": [
    "# 3(iii)\n",
    "string=input(\"Enter string:\")\n",
    "count=0\n",
    "for i in string:\n",
    "    if(i.islower()):\n",
    "        count=count+1\n",
    "print(\"The number of lowercase characters is:\")\n",
    "print(count)"
   ]
  },
  {
   "cell_type": "code",
   "execution_count": 9,
   "id": "564fe510",
   "metadata": {},
   "outputs": [
    {
     "name": "stdout",
     "output_type": "stream",
     "text": [
      "Enter string:Hi Hello\n",
      "The number of lowercase characters is:\n",
      "5\n",
      "The number of uppercase characters is:\n",
      "2\n"
     ]
    }
   ],
   "source": [
    "# 3(iv)\n",
    "string=input(\"Enter string:\")\n",
    "count1=0\n",
    "count2=0\n",
    "for i in string:\n",
    "    if(i.islower()):\n",
    "        count1=count1+1\n",
    "    elif(i.isupper()):\n",
    "        count2=count2+1\n",
    "print(\"The number of lowercase characters is:\")\n",
    "print(count1)\n",
    "print(\"The number of uppercase characters is:\")\n",
    "print(count2)"
   ]
  },
  {
   "cell_type": "code",
   "execution_count": 11,
   "id": "029a7d0b",
   "metadata": {},
   "outputs": [
    {
     "name": "stdout",
     "output_type": "stream",
     "text": [
      "Enter string:this is an example\n",
      "Number of words in the string:\n",
      "4\n",
      "Number of characters in the string:\n",
      "18\n"
     ]
    }
   ],
   "source": [
    "# 3(v)\n",
    "string=input(\"Enter string:\")\n",
    "char=0\n",
    "word=1\n",
    "for i in string:\n",
    "    char=char+1\n",
    "    if(i==' '):\n",
    "        word=word+1\n",
    "print(\"Number of words in the string:\")\n",
    "print(word)\n",
    "print(\"Number of characters in the string:\")\n",
    "print(char)"
   ]
  },
  {
   "cell_type": "code",
   "execution_count": 13,
   "id": "15203f41",
   "metadata": {},
   "outputs": [
    {
     "name": "stdout",
     "output_type": "stream",
     "text": [
      "str.capitalize(): This is string example....wow!!!\n",
      "str.title(): This Is String Example....Wow!!!\n",
      "str.upper(): THIS IS STRING EXAMPLE....WOW!!!\n"
     ]
    }
   ],
   "source": [
    "# 3(vi) \n",
    "str=\"this is string example....wow!!!\";\n",
    "print(\"str.capitalize():\",str.capitalize())\n",
    "print(\"str.title():\",str.title())\n",
    "print(\"str.upper():\",str.upper())"
   ]
  },
  {
   "cell_type": "code",
   "execution_count": 17,
   "id": "48a2268e",
   "metadata": {},
   "outputs": [
    {
     "name": "stdout",
     "output_type": "stream",
     "text": [
      "str.count(sub,4,40): 2\n",
      "str.count(sub): 2\n"
     ]
    }
   ],
   "source": [
    "# 3(vii) count\n",
    "str=\"th is is string example...wow!!!\"\n",
    "sub=\"i\"\n",
    "print(\"str.count(sub,4,40):\",str.count(sub,4,40))\n",
    "sub=\"is\"\n",
    "print(\"str.count(sub):\",str.count(sub))\n"
   ]
  },
  {
   "cell_type": "code",
   "execution_count": 21,
   "id": "67e07534",
   "metadata": {},
   "outputs": [
    {
     "name": "stdout",
     "output_type": "stream",
     "text": [
      "True\n",
      "False\n"
     ]
    }
   ],
   "source": [
    "# 3(viii) isalnum\n",
    "str=\"this2009\";\n",
    "print(str.isalnum())\n",
    "str=\"this is string example...wow!!!\"\n",
    "print(str.isalnum())"
   ]
  },
  {
   "cell_type": "code",
   "execution_count": 33,
   "id": "ba23443e",
   "metadata": {},
   "outputs": [
    {
     "name": "stdout",
     "output_type": "stream",
     "text": [
      "True\n",
      "False\n"
     ]
    }
   ],
   "source": [
    "# 3(ix) isdigit\n",
    "str=\"123456\";\n",
    "print(str.isdigit())\n",
    "str=\"this is string example...wow!!!\"\n",
    "print(str.isdigit())"
   ]
  },
  {
   "cell_type": "code",
   "execution_count": 34,
   "id": "71db1e79",
   "metadata": {},
   "outputs": [
    {
     "name": "stdout",
     "output_type": "stream",
     "text": [
      "a*b*c\n"
     ]
    }
   ],
   "source": [
    "# 3(x) join\n",
    "s=\"*\"\n",
    "seq=(\"a\",\"b\",\"c\")\n",
    "print(s.join(seq))"
   ]
  },
  {
   "cell_type": "code",
   "execution_count": 35,
   "id": "e4263f95",
   "metadata": {},
   "outputs": [
    {
     "name": "stdout",
     "output_type": "stream",
     "text": [
      "True\n",
      "False\n"
     ]
    }
   ],
   "source": [
    "# 3(xi) istitle\n",
    "str=\"This Is Good\"\n",
    "print(str.istitle())\n",
    "str=\"This is good\"\n",
    "print(str.istitle())"
   ]
  },
  {
   "cell_type": "code",
   "execution_count": 36,
   "id": "69afc376",
   "metadata": {},
   "outputs": [
    {
     "name": "stdout",
     "output_type": "stream",
     "text": [
      "Max Character:y\n",
      "Max Character:x\n"
     ]
    }
   ],
   "source": [
    "# 3(xii) max\n",
    "str=\"this is really a string example...wow!!!\"\n",
    "print(\"Max Character:\"+max(str))\n",
    "str=\"this is a string example...wow!!!\"\n",
    "print(\"Max Character:\"+max(str))"
   ]
  },
  {
   "cell_type": "code",
   "execution_count": 9,
   "id": "dc28648d",
   "metadata": {},
   "outputs": [
    {
     "name": "stdout",
     "output_type": "stream",
     "text": [
      "Enter number of elements:3\n",
      "Enter element:2\n",
      "Enter element:7\n",
      "Enter element:2\n",
      "Largest element is: 7\n"
     ]
    }
   ],
   "source": [
    "# 4(i)\n",
    "a=[]\n",
    "n=int(input(\"Enter number of elements:\"))\n",
    "for i in range(1,n+1):\n",
    "    b=int(input(\"Enter element:\"))\n",
    "    a.append(b)\n",
    "    a.sort()\n",
    "print(\"Largest element is:\",a[n-1])"
   ]
  },
  {
   "cell_type": "code",
   "execution_count": 15,
   "id": "1820c08a",
   "metadata": {},
   "outputs": [
    {
     "name": "stdout",
     "output_type": "stream",
     "text": [
      "Enter number of elements:2\n",
      "Enter element:4\n",
      "Enter element:3\n",
      "Enter number of elements:2\n",
      "Enter element:2\n",
      "Enter element:1\n",
      "Sorted list is: [1, 2, 3, 4]\n"
     ]
    }
   ],
   "source": [
    "# 4(ii)\n",
    "a=[]\n",
    "c=[]\n",
    "n1=int(input(\"Enter number of elements:\"))\n",
    "for i in range(1,n1+1):\n",
    "    b=int(input(\"Enter element:\"))\n",
    "    a.append(b)\n",
    "n2=int(input(\"Enter number of elements:\"))\n",
    "for i in range(1,n2+1):\n",
    "    d=int(input(\"Enter element:\"))\n",
    "    c.append(d)\n",
    "new=a+c\n",
    "new.sort()\n",
    "print(\"Sorted list is:\",new)"
   ]
  },
  {
   "cell_type": "code",
   "execution_count": 17,
   "id": "ddeaeb9b",
   "metadata": {},
   "outputs": [
    {
     "name": "stdout",
     "output_type": "stream",
     "text": [
      "Enter the number of elements in list:2\n",
      "Enter element1:100\n",
      "Enter element2:90\n",
      "New list is:\n",
      "[90, 100]\n"
     ]
    }
   ],
   "source": [
    "# 4(iii)\n",
    "a=[]\n",
    "n=int(input(\"Enter the number of elements in list:\"))\n",
    "for x in range(0,n):\n",
    "    element=int(input(\"Enter element\"+str(x+1)+\":\"))\n",
    "    a.append(element)\n",
    "temp=a[0]\n",
    "a[0]=a[n-1]\n",
    "a[n-1]=temp\n",
    "print(\"New list is:\")\n",
    "print(a)"
   ]
  },
  {
   "cell_type": "code",
   "execution_count": 12,
   "id": "bdd1f658",
   "metadata": {},
   "outputs": [
    {
     "name": "stdout",
     "output_type": "stream",
     "text": [
      "Enetr the number of elements in list:2\n",
      "Enter element1:2\n",
      "Enter element2:2\n",
      "Non-duplicate items:\n",
      "[2]\n"
     ]
    }
   ],
   "source": [
    "# 4(iv)\n",
    "a=[]\n",
    "n=int(input(\"Enetr the number of elements in list:\"))\n",
    "for x in range(0,n):\n",
    "    element=int(input(\"Enter element\"+str(x+1)+\":\"))\n",
    "    a.append(element)\n",
    "b=set()\n",
    "unique=[]\n",
    "for x in a:\n",
    "    if x not in b:\n",
    "        unique.append(x)\n",
    "        b.add(x)\n",
    "print(\"Non-duplicate items:\")\n",
    "print(unique)"
   ]
  },
  {
   "cell_type": "code",
   "execution_count": 19,
   "id": "be2d0bb4",
   "metadata": {},
   "outputs": [
    {
     "name": "stdout",
     "output_type": "stream",
     "text": [
      "Enter the number of elements in list:1\n",
      "Enter element1:a\n",
      "The word with the longest length is:\n",
      "a\n"
     ]
    }
   ],
   "source": [
    "# 4(v)\n",
    "a=[]\n",
    "n=int(input(\"Enter the number of elements in list:\"))\n",
    "for x in range(0,n):\n",
    "    element=input(\"Enter element\"+str(x+1)+\":\")\n",
    "    a.append(element)\n",
    "max1=len(a[0])\n",
    "temp=a[0]\n",
    "for i in a:\n",
    "    if(len(i)>max1):\n",
    "        max1=len(i)\n",
    "        temp=i\n",
    "print(\"The word with the longest length is:\")\n",
    "print(temp)"
   ]
  },
  {
   "cell_type": "code",
   "execution_count": 10,
   "id": "92baef3c",
   "metadata": {},
   "outputs": [
    {
     "name": "stdout",
     "output_type": "stream",
     "text": [
      "(4, 6, 2, 8, 3, 1)\n",
      "(4, 6, 2, 8, 3, 1, 9)\n",
      "(4, 6, 2, 8, 3, 15, 20, 25, 1, 9)\n",
      "(4, 6, 2, 8, 3, 15, 20, 25, 1, 9, 30)\n"
     ]
    }
   ],
   "source": [
    "# 5(i)\n",
    "tuplex=(4,6,2,8,3,1)\n",
    "print(tuplex)\n",
    "tuplex=tuplex+(9,)\n",
    "print(tuplex)\n",
    "tuplex=tuplex[:5]+(15,20,25)+tuplex[5:]\n",
    "print(tuplex)\n",
    "listx=list(tuplex)\n",
    "listx.append(30)\n",
    "tuplex=tuple(listx)\n",
    "print(tuplex)"
   ]
  },
  {
   "cell_type": "code",
   "execution_count": 2,
   "id": "2138deda",
   "metadata": {},
   "outputs": [
    {
     "name": "stdout",
     "output_type": "stream",
     "text": [
      "('w', 3, 'r', 'e', 's', 'o', 'u', 'r', 'c', 'e')\n",
      "e\n",
      "u\n"
     ]
    }
   ],
   "source": [
    "# 5(ii)\n",
    "tuplex=(\"w\",3,\"r\",\"e\",\"s\",\"o\",\"u\",\"r\",\"c\",\"e\")\n",
    "print(tuplex)\n",
    "item=tuplex[3]\n",
    "print(item)\n",
    "item1=tuplex[-4]\n",
    "print(item1)"
   ]
  },
  {
   "cell_type": "code",
   "execution_count": 3,
   "id": "29814022",
   "metadata": {},
   "outputs": [
    {
     "name": "stdout",
     "output_type": "stream",
     "text": [
      "3\n"
     ]
    }
   ],
   "source": [
    "# 5(iii)\n",
    "num=[10,20,30,(10,20),40]\n",
    "ctr=0\n",
    "for n in num:\n",
    "    if isinstance(n,tuple):\n",
    "        break\n",
    "    ctr+=1\n",
    "print(ctr)"
   ]
  },
  {
   "cell_type": "code",
   "execution_count": 8,
   "id": "39bc633d",
   "metadata": {},
   "outputs": [
    {
     "name": "stdout",
     "output_type": "stream",
     "text": [
      "{'x': [1, 2, 3], 'y': [1, 2], 'z': [1]}\n"
     ]
    }
   ],
   "source": [
    "# 5(iv)\n",
    "lt=[(\"x\",1),(\"x\",2),(\"x\",3),(\"y\",1),(\"y\",2),(\"z\",1)]\n",
    "d={}\n",
    "for a,b in lt:\n",
    "    d.setdefault(a,[]).append(b)\n",
    "print(d)"
   ]
  },
  {
   "cell_type": "code",
   "execution_count": 6,
   "id": "64a6d197",
   "metadata": {},
   "outputs": [
    {
     "name": "stdout",
     "output_type": "stream",
     "text": [
      "Count of each element in the tuple:\n",
      "apple:2\n",
      "banana:2\n",
      "cherry:3\n"
     ]
    }
   ],
   "source": [
    "# 5(v)\n",
    "elements=('apple','banana','cherry','apple','cherry','cherry','banana')\n",
    "element_count={}\n",
    "for item in elements:\n",
    "    if item in element_count:\n",
    "        element_count[item]+=1\n",
    "    else:\n",
    "         element_count[item]=1\n",
    "print(\"Count of each element in the tuple:\")\n",
    "for item, count in element_count.items():\n",
    "    print(f\"{item}:{count}\")"
   ]
  },
  {
   "cell_type": "code",
   "execution_count": 11,
   "id": "f203be11",
   "metadata": {},
   "outputs": [
    {
     "name": "stdout",
     "output_type": "stream",
     "text": [
      "Enter the key (int) to be added:5\n",
      "Enter the value for the key to be added:4\n",
      "Updated dictionary is:\n",
      "{5: 4}\n"
     ]
    }
   ],
   "source": [
    "# 6 (i)\n",
    "key=int(input(\"Enter the key (int) to be added:\"))\n",
    "value=int(input(\"Enter the value for the key to be added:\"))\n",
    "d={}\n",
    "d.update({key:value})\n",
    "print(\"Updated dictionary is:\")\n",
    "print(d)\n"
   ]
  },
  {
   "cell_type": "code",
   "execution_count": 2,
   "id": "50deccee",
   "metadata": {},
   "outputs": [
    {
     "name": "stdout",
     "output_type": "stream",
     "text": [
      "Concatenated dictionary is:\n",
      "{'A': 1, 'B': 2, 'C': 3}\n"
     ]
    }
   ],
   "source": [
    "# 6 (ii)\n",
    "d1={'A':1,'B':2}\n",
    "d2={'C':3}\n",
    "d1.update(d2)\n",
    "print(\"Concatenated dictionary is:\")\n",
    "print(d1)"
   ]
  },
  {
   "cell_type": "code",
   "execution_count": 3,
   "id": "14270f8f",
   "metadata": {},
   "outputs": [
    {
     "name": "stdout",
     "output_type": "stream",
     "text": [
      "Enter a number:5\n",
      "{1: 1, 2: 4, 3: 9, 4: 16, 5: 25}\n"
     ]
    }
   ],
   "source": [
    "# 6(iii)\n",
    "n=int(input(\"Enter a number:\"))\n",
    "d={x:x*x for x in range(1,n+1)}\n",
    "print(d)"
   ]
  },
  {
   "cell_type": "code",
   "execution_count": 4,
   "id": "f9702bd4",
   "metadata": {},
   "outputs": [
    {
     "name": "stdout",
     "output_type": "stream",
     "text": [
      "Total sum of values in the dictionary:\n",
      "879\n"
     ]
    }
   ],
   "source": [
    "# 6(iv)\n",
    "d={'A':100,'B':540,'C':239}\n",
    "print(\"Total sum of values in the dictionary:\")\n",
    "print(sum(d.values()))"
   ]
  },
  {
   "cell_type": "code",
   "execution_count": 13,
   "id": "6bfeca35",
   "metadata": {},
   "outputs": [
    {
     "name": "stdout",
     "output_type": "stream",
     "text": [
      "Enter number of elements for dictionary:4\n",
      "For keys:\n",
      "Enter element1:5\n",
      "Enter element2:4\n",
      "Enter element3:3\n",
      "Enter element4:2\n",
      "For values:\n",
      "Enter element1:2\n",
      "Enter element2:3\n",
      "Enter element3:4\n",
      "Enter element4:5\n",
      "The dictionary is:\n",
      "{2: 5}\n"
     ]
    }
   ],
   "source": [
    "# 6(v)\n",
    "keys=[]\n",
    "values=[]\n",
    "n=int(input(\"Enter number of elements for dictionary:\"))\n",
    "print(\"For keys:\")\n",
    "for x in range(0,n):\n",
    "    element=int(input(\"Enter element\"+str(x+1)+\":\"))\n",
    "keys.append(element)\n",
    "print(\"For values:\")\n",
    "for x in range(0,n):\n",
    "    element=int(input(\"Enter element\"+str(x+1)+\":\"))\n",
    "values.append(element)\n",
    "d=dict(zip(keys,values))\n",
    "print(\"The dictionary is:\")\n",
    "print(d)"
   ]
  },
  {
   "cell_type": "code",
   "execution_count": 18,
   "id": "ce0ad24c",
   "metadata": {},
   "outputs": [
    {
     "name": "stdout",
     "output_type": "stream",
     "text": [
      "Enter string:p\n",
      "p : ['p']\n"
     ]
    }
   ],
   "source": [
    "# 6(vi)\n",
    "test_string=input(\"Enter string:\")\n",
    "I=test_string.split()\n",
    "d={}\n",
    "for word in I:\n",
    "    if(word[0]not in d.keys()):\n",
    "        d[word[0]]=[]\n",
    "        d[word[0]].append(word)\n",
    "    else:\n",
    "        if(word not in d[word[0]]):\n",
    "            d[word[0]].append(word)\n",
    "    for k,v in d.items():\n",
    "        print(k,\":\",v)"
   ]
  },
  {
   "cell_type": "code",
   "execution_count": 9,
   "id": "0d42a782",
   "metadata": {},
   "outputs": [
    {
     "data": {
      "image/png": "[encoded data removed]",
      "text/plain": [
       "<Figure size 720x432 with 1 Axes>"
      ]
     },
     "metadata": {
      "needs_background": "light"
     },
     "output_type": "display_data"
    },
    {
     "data": {
      "image/png": "[encoded data removed]",
      "text/plain": [
       "<Figure size 720x432 with 1 Axes>"
      ]
     },
     "metadata": {
      "needs_background": "light"
     },
     "output_type": "display_data"
    },
    {
     "data": {
      "image/png": "[encoded data removed]",
      "text/plain": [
       "<Figure size 576x576 with 1 Axes>"
      ]
     },
     "metadata": {},
     "output_type": "display_data"
    },
    {
     "data": {
      "image/png": "[encoded data removed]",
      "text/plain": [
       "<Figure size 720x432 with 1 Axes>"
      ]
     },
     "metadata": {
      "needs_background": "light"
     },
     "output_type": "display_data"
    },
    {
     "data": {
      "image/png": "[encoded data removed]",
      "text/plain": [
       "<Figure size 720x432 with 1 Axes>"
      ]
     },
     "metadata": {
      "needs_background": "light"
     },
     "output_type": "display_data"
    }
   ],
   "source": [
    "# 7\n",
    "### Sample Dataset\n",
    "import pandas as pd\n",
    "data={\n",
    "    'Month':['January','February','March','April','May','June'],\n",
    "    'Sales':[200,220,250,300,280,320],\n",
    "    'Profit':[50,60,70,80,90,100]\n",
    "}\n",
    "df=pd.DataFrame(data)\n",
    "### 1. Line Plot\n",
    "import matplotlib.pyplot as plt\n",
    "plt.figure(figsize=(10,6))\n",
    "plt.plot(df['Month'],df['Sales'],marker='o',color='b',label='Sales')\n",
    "plt.title('Sales Over Months')\n",
    "plt.xlabel('Month')\n",
    "plt.ylabel('Sales')\n",
    "plt.grid(True)\n",
    "plt.legend()\n",
    "plt.show()\n",
    "### 2. Bar Chart\n",
    "plt.figure(figsize=(10,6))\n",
    "plt.bar(df['Month'],df['Sales'],color='orange')\n",
    "plt.title('Monthly Sales')\n",
    "plt.xlabel('Month')\n",
    "plt.ylabel('Sales')\n",
    "plt.xticks(rotation=45)\n",
    "plt.show()\n",
    "### 3. Pie Chart\n",
    "plt.figure(figsize=(8,8))\n",
    "plt.pie(df['Sales'],labels=df['Month'],autopct='%1.1f%%',startangle=140)\n",
    "plt.title('Sales Distribution by Month')\n",
    "plt.axis('equal')\n",
    "plt.show()\n",
    "### 4. Scatter Plot\n",
    "plt.figure(figsize=(10,6))\n",
    "plt.scatter(df['Sales'],df['Profit'],color='green',s=100)\n",
    "plt.title('Sales vs Profit')\n",
    "plt.xlabel('Sales')\n",
    "plt.ylabel('Profit')\n",
    "plt.grid(True)\n",
    "plt.show()\n",
    "plt.figure(figsize=(10,6))\n",
    "plt.hist(df['Sales'],bins=5,color='purple',alpha=0.7)\n",
    "plt.title('Sales Distribution')\n",
    "plt.xlabel('Sales')\n",
    "plt.ylabel('Frequency')\n",
    "plt.grid(axis='y')\n",
    "plt.show()"
   ]
  },
  {
   "cell_type": "code",
   "execution_count": 10,
   "id": "26fa1c70",
   "metadata": {},
   "outputs": [
    {
     "data": {
      "image/png": "[encoded data removed]",
      "text/plain": [
       "<Figure size 432x288 with 1 Axes>"
      ]
     },
     "metadata": {
      "needs_background": "light"
     },
     "output_type": "display_data"
    },
    {
     "name": "stdout",
     "output_type": "stream",
     "text": [
      "R-squared: 0.7272727272727273\n"
     ]
    }
   ],
   "source": [
    "# 8\n",
    "import numpy as np\n",
    "import pandas as pd\n",
    "from sklearn.linear_model import LinearRegression\n",
    "import matplotlib.pyplot as plt\n",
    "x=np.array([1,2,3,4,5])\n",
    "y=np.array([1,3,2,3,5])\n",
    "data=pd.DataFrame({'x':x,'y':y})\n",
    "data.to_csv('data.csv',index=False)\n",
    "data=pd.read_csv('data.csv')\n",
    "X=data['x'].values.reshape(-1,1)\n",
    "Y=data['y'].values.reshape(-1,1)\n",
    "model=LinearRegression()\n",
    "model.fit(X,y)\n",
    "y_pred=model.predict(X)\n",
    "plt.scatter(X,y,color='k',label='Data Points')\n",
    "plt.plot(X,y_pred,color='r',label='Regression Line')\n",
    "plt.xlabel('x')\n",
    "plt.ylabel('y')\n",
    "plt.title('Linear Regression')\n",
    "plt.legend()\n",
    "plt.show()\n",
    "r2=model.score(X,y)\n",
    "print(\"R-squared:\",r2)"
   ]
  },
  {
   "cell_type": "code",
   "execution_count": 12,
   "id": "f6bd6ed1",
   "metadata": {},
   "outputs": [
    {
     "name": "stdout",
     "output_type": "stream",
     "text": [
      "Accuracy: 0.86\n"
     ]
    },
    {
     "data": {
      "image/png": "[encoded data removed]",
      "text/plain": [
       "<Figure size 432x288 with 1 Axes>"
      ]
     },
     "metadata": {
      "needs_background": "light"
     },
     "output_type": "display_data"
    }
   ],
   "source": [
    "# 9\n",
    "import numpy as np\n",
    "import matplotlib.pyplot as plt\n",
    "from sklearn.datasets import make_classification\n",
    "from sklearn.model_selection import train_test_split\n",
    "from sklearn.metrics import accuracy_score\n",
    "from sklearn.neighbors import KNeighborsClassifier\n",
    "X,y=make_classification(n_samples=1000,n_features=4,n_informative=2,n_redundant=0,random_state=1)\n",
    "X_train,X_test,y_train,y_test=train_test_split(X,y,test_size=0.30,random_state=42)\n",
    "knn=KNeighborsClassifier()\n",
    "knn.fit(X_train,y_train)\n",
    "y_pred=knn.predict(X_test)\n",
    "print(\"Accuracy:\",accuracy_score(y_test,y_pred))\n",
    "x_min,x_max=X_test[:,0].min()-1,X_test[:,0].max()+1\n",
    "y_min,y_max=X_test[:,1].min()-1,X_test[:,1].max()+1\n",
    "xx,yy=np.meshgrid(np.arange(x_min,x_max,0.1),np.arange(y_min,y_max,0.1))\n",
    "Z=knn.predict(np.c_[xx.ravel(),yy.ravel(),np.zeros_like(xx.ravel()),np.zeros_like(xx.ravel())])\n",
    "Z=Z.reshape(xx.shape)\n",
    "plt.contourf(xx,yy,Z,alpha=0.4)\n",
    "plt.scatter(X_test[:,0],X_test[:,1],c=y_test,s=50,cmap='autumn')\n",
    "plt.title('KNN Decision Boundary')\n",
    "plt.xlabel('Feature 1')\n",
    "plt.ylabel('Feature 2')\n",
    "plt.show()"
   ]
  },
  {
   "cell_type": "code",
   "execution_count": 14,
   "id": "433df7f2",
   "metadata": {},
   "outputs": [
    {
     "name": "stdout",
     "output_type": "stream",
     "text": [
      "Accuracy: 1.0\n",
      "New Prediction: [0]\n"
     ]
    }
   ],
   "source": [
    "# 10\n",
    "from sklearn.datasets import load_iris\n",
    "from sklearn.tree import DecisionTreeClassifier\n",
    "from sklearn.model_selection import train_test_split\n",
    "from sklearn.metrics import accuracy_score\n",
    "iris=load_iris()\n",
    "X,y=iris.data,iris.target\n",
    "X_train,X_test,y_train,y_test=train_test_split(X,y,test_size=0.3,random_state=42)\n",
    "dt=DecisionTreeClassifier()\n",
    "dt.fit(X_train,y_train)\n",
    "y_pred=dt.predict(X_test)\n",
    "accuracy=accuracy_score(y_test,y_pred)\n",
    "print(\"Accuracy:\",accuracy)\n",
    "new_sample=[[5.1,3.5,1.4,0.2]]\n",
    "new_pred=dt.predict(new_sample)\n",
    "print(\"New Prediction:\",new_pred)"
   ]
  },
  {
   "cell_type": "code",
   "execution_count": null,
   "id": "96efeefe",
   "metadata": {},
   "outputs": [],
   "source": []
  }
 ],
 "metadata": {
  "kernelspec": {
   "display_name": "Python 3 (ipykernel)",
   "language": "python",
   "name": "python3"
  },
  "language_info": {
   "codemirror_mode": {
    "name": "ipython",
    "version": 3
   },
   "file_extension": ".py",
   "mimetype": "text/x-python",
   "name": "python",
   "nbconvert_exporter": "python",
   "pygments_lexer": "ipython3",
   "version": "3.12.7"
  }
 },
 "nbformat": 4,
 "nbformat_minor": 5
}
